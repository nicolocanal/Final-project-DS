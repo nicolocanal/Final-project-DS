{
 "cells": [
  {
   "cell_type": "code",
   "execution_count": 1,
   "id": "9ec4ee0d",
   "metadata": {},
   "outputs": [],
   "source": [
    "%matplotlib inline\n",
    "import json\n",
    "import os            \n",
    "import pandas as pd    \n",
    "import numpy as np"
   ]
  },
  {
   "cell_type": "markdown",
   "id": "2224aa8a",
   "metadata": {},
   "source": [
    "The first thing we should do is analysing our dataframe concerning calls to 112. To simplify this operation, we already subsetted the initial dataframe by taking into account only the data concerning Den Haag.  \n",
    "Let's then analyse this last dataframe that we called Den_Haag_calls. "
   ]
  },
  {
   "cell_type": "code",
   "execution_count": 2,
   "id": "2f798466",
   "metadata": {},
   "outputs": [
    {
     "name": "stderr",
     "output_type": "stream",
     "text": [
      "C:\\ProgramData\\Anaconda3\\envs\\gds\\lib\\site-packages\\IPython\\core\\interactiveshell.py:3444: DtypeWarning: Columns (17,18) have mixed types.Specify dtype option on import or set low_memory=False.\n",
      "  exec(code_obj, self.user_global_ns, self.user_ns)\n"
     ]
    },
    {
     "data": {
      "text/html": [
       "<div>\n",
       "<style scoped>\n",
       "    .dataframe tbody tr th:only-of-type {\n",
       "        vertical-align: middle;\n",
       "    }\n",
       "\n",
       "    .dataframe tbody tr th {\n",
       "        vertical-align: top;\n",
       "    }\n",
       "\n",
       "    .dataframe thead th {\n",
       "        text-align: right;\n",
       "    }\n",
       "</style>\n",
       "<table border=\"1\" class=\"dataframe\">\n",
       "  <thead>\n",
       "    <tr style=\"text-align: right;\">\n",
       "      <th></th>\n",
       "      <th>pmeId</th>\n",
       "      <th>pmeTimeStamp</th>\n",
       "      <th>pmeProtocol1</th>\n",
       "      <th>pmeProtocol2</th>\n",
       "      <th>pmeTarget</th>\n",
       "      <th>pmeMessage</th>\n",
       "      <th>pmePrio</th>\n",
       "      <th>pmePrioLevel</th>\n",
       "      <th>pmeDienst</th>\n",
       "      <th>pmeStrippedMessage</th>\n",
       "      <th>...</th>\n",
       "      <th>pme_strId</th>\n",
       "      <th>pme_wplId</th>\n",
       "      <th>pme_gemId</th>\n",
       "      <th>pme_proId</th>\n",
       "      <th>pme_vrgId</th>\n",
       "      <th>pmeCapCodes</th>\n",
       "      <th>pmeLifeLiner</th>\n",
       "      <th>pme_catId</th>\n",
       "      <th>wplNam</th>\n",
       "      <th>gemName</th>\n",
       "    </tr>\n",
       "  </thead>\n",
       "  <tbody>\n",
       "    <tr>\n",
       "      <th>0</th>\n",
       "      <td>12284702</td>\n",
       "      <td>2017-01-01 00:00:37</td>\n",
       "      <td>FLEX-A</td>\n",
       "      <td>1600</td>\n",
       "      <td>AORG</td>\n",
       "      <td>A1 Goudsbloemlaan 71-79 DHG 2565CP : 15101 Rit...</td>\n",
       "      <td>A1</td>\n",
       "      <td>1</td>\n",
       "      <td>A</td>\n",
       "      <td>15101 Ritnummer: 1</td>\n",
       "      <td>...</td>\n",
       "      <td>199928</td>\n",
       "      <td>4896</td>\n",
       "      <td>391</td>\n",
       "      <td>12</td>\n",
       "      <td>5170</td>\n",
       "      <td>1520001</td>\n",
       "      <td>\\N</td>\n",
       "      <td>\\N</td>\n",
       "      <td>Den Haag</td>\n",
       "      <td>Den Haag</td>\n",
       "    </tr>\n",
       "    <tr>\n",
       "      <th>1</th>\n",
       "      <td>12284730</td>\n",
       "      <td>2017-01-01 00:04:52</td>\n",
       "      <td>FLEX-A</td>\n",
       "      <td>1600</td>\n",
       "      <td>AORG</td>\n",
       "      <td>P 1 Buitenbrand afval/rommel Drebbelstraat DHG...</td>\n",
       "      <td>P 1</td>\n",
       "      <td>1</td>\n",
       "      <td>B</td>\n",
       "      <td>Buitenbrand afval/rommel 7630</td>\n",
       "      <td>...</td>\n",
       "      <td>199712</td>\n",
       "      <td>4896</td>\n",
       "      <td>391</td>\n",
       "      <td>12</td>\n",
       "      <td>5170</td>\n",
       "      <td>1500148,1500632,1503902,2029568</td>\n",
       "      <td>\\N</td>\n",
       "      <td>\\N</td>\n",
       "      <td>Den Haag</td>\n",
       "      <td>Den Haag</td>\n",
       "    </tr>\n",
       "    <tr>\n",
       "      <th>2</th>\n",
       "      <td>12284734</td>\n",
       "      <td>2017-01-01 00:05:29</td>\n",
       "      <td>FLEX-A</td>\n",
       "      <td>1600</td>\n",
       "      <td>AORG</td>\n",
       "      <td>P 1 Gebouwbrand woning (VK: 12) Berberisstraat...</td>\n",
       "      <td>P 1</td>\n",
       "      <td>1</td>\n",
       "      <td>B</td>\n",
       "      <td>Gebouwbrand woning (VK: 12) 9591 7830 9634 7850</td>\n",
       "      <td>...</td>\n",
       "      <td>199326</td>\n",
       "      <td>4896</td>\n",
       "      <td>391</td>\n",
       "      <td>12</td>\n",
       "      <td>5170</td>\n",
       "      <td>1500050,1500142,1500624,1500634,1503902,2029568</td>\n",
       "      <td>\\N</td>\n",
       "      <td>\\N</td>\n",
       "      <td>Den Haag</td>\n",
       "      <td>Den Haag</td>\n",
       "    </tr>\n",
       "    <tr>\n",
       "      <th>3</th>\n",
       "      <td>12284777</td>\n",
       "      <td>2017-01-01 00:11:56</td>\n",
       "      <td>FLEX-A</td>\n",
       "      <td>1600</td>\n",
       "      <td>AORG</td>\n",
       "      <td>P 1 OMS Geverifieerd (brandmelding OMS) De Wit...</td>\n",
       "      <td>P 1</td>\n",
       "      <td>1</td>\n",
       "      <td>B</td>\n",
       "      <td>Melding Via Openbaar Meldsysteem Geverifieerd ...</td>\n",
       "      <td>...</td>\n",
       "      <td>201019</td>\n",
       "      <td>4896</td>\n",
       "      <td>391</td>\n",
       "      <td>12</td>\n",
       "      <td>5170</td>\n",
       "      <td>1500142,1503902,2029568</td>\n",
       "      <td>\\N</td>\n",
       "      <td>\\N</td>\n",
       "      <td>Den Haag</td>\n",
       "      <td>Den Haag</td>\n",
       "    </tr>\n",
       "    <tr>\n",
       "      <th>4</th>\n",
       "      <td>12284781</td>\n",
       "      <td>2017-01-01 00:12:10</td>\n",
       "      <td>FLEX-A</td>\n",
       "      <td>1600</td>\n",
       "      <td>AORG</td>\n",
       "      <td>A1 Zuiderparklaan 81-89 DHG 2574HC : 15129 Rit...</td>\n",
       "      <td>A1</td>\n",
       "      <td>1</td>\n",
       "      <td>A</td>\n",
       "      <td>15129 Ritnummer: 7</td>\n",
       "      <td>...</td>\n",
       "      <td>202018</td>\n",
       "      <td>4896</td>\n",
       "      <td>391</td>\n",
       "      <td>12</td>\n",
       "      <td>5170</td>\n",
       "      <td>1520029</td>\n",
       "      <td>\\N</td>\n",
       "      <td>\\N</td>\n",
       "      <td>Den Haag</td>\n",
       "      <td>Den Haag</td>\n",
       "    </tr>\n",
       "  </tbody>\n",
       "</table>\n",
       "<p>5 rows × 31 columns</p>\n",
       "</div>"
      ],
      "text/plain": [
       "      pmeId         pmeTimeStamp pmeProtocol1  pmeProtocol2 pmeTarget  \\\n",
       "0  12284702  2017-01-01 00:00:37       FLEX-A          1600      AORG   \n",
       "1  12284730  2017-01-01 00:04:52       FLEX-A          1600      AORG   \n",
       "2  12284734  2017-01-01 00:05:29       FLEX-A          1600      AORG   \n",
       "3  12284777  2017-01-01 00:11:56       FLEX-A          1600      AORG   \n",
       "4  12284781  2017-01-01 00:12:10       FLEX-A          1600      AORG   \n",
       "\n",
       "                                          pmeMessage pmePrio pmePrioLevel  \\\n",
       "0  A1 Goudsbloemlaan 71-79 DHG 2565CP : 15101 Rit...      A1            1   \n",
       "1  P 1 Buitenbrand afval/rommel Drebbelstraat DHG...     P 1            1   \n",
       "2  P 1 Gebouwbrand woning (VK: 12) Berberisstraat...     P 1            1   \n",
       "3  P 1 OMS Geverifieerd (brandmelding OMS) De Wit...     P 1            1   \n",
       "4  A1 Zuiderparklaan 81-89 DHG 2574HC : 15129 Rit...      A1            1   \n",
       "\n",
       "  pmeDienst                                 pmeStrippedMessage  ... pme_strId  \\\n",
       "0         A                                 15101 Ritnummer: 1  ...    199928   \n",
       "1         B                      Buitenbrand afval/rommel 7630  ...    199712   \n",
       "2         B    Gebouwbrand woning (VK: 12) 9591 7830 9634 7850  ...    199326   \n",
       "3         B  Melding Via Openbaar Meldsysteem Geverifieerd ...  ...    201019   \n",
       "4         A                                 15129 Ritnummer: 7  ...    202018   \n",
       "\n",
       "  pme_wplId pme_gemId pme_proId pme_vrgId  \\\n",
       "0      4896       391        12      5170   \n",
       "1      4896       391        12      5170   \n",
       "2      4896       391        12      5170   \n",
       "3      4896       391        12      5170   \n",
       "4      4896       391        12      5170   \n",
       "\n",
       "                                       pmeCapCodes pmeLifeLiner pme_catId  \\\n",
       "0                                          1520001           \\N        \\N   \n",
       "1                  1500148,1500632,1503902,2029568           \\N        \\N   \n",
       "2  1500050,1500142,1500624,1500634,1503902,2029568           \\N        \\N   \n",
       "3                          1500142,1503902,2029568           \\N        \\N   \n",
       "4                                          1520029           \\N        \\N   \n",
       "\n",
       "     wplNam   gemName  \n",
       "0  Den Haag  Den Haag  \n",
       "1  Den Haag  Den Haag  \n",
       "2  Den Haag  Den Haag  \n",
       "3  Den Haag  Den Haag  \n",
       "4  Den Haag  Den Haag  \n",
       "\n",
       "[5 rows x 31 columns]"
      ]
     },
     "execution_count": 2,
     "metadata": {},
     "output_type": "execute_result"
    }
   ],
   "source": [
    "path='Calls data/Den_Haag_calls.csv' #defining relative path to our csv file\n",
    "DH_calls=pd.read_csv(path)\n",
    "DH_calls.head() #exploring the first five rows"
   ]
  },
  {
   "cell_type": "markdown",
   "id": "d3786611",
   "metadata": {},
   "source": [
    "Let's also explore the shape of the dataframe. "
   ]
  },
  {
   "cell_type": "markdown",
   "id": "577a577d",
   "metadata": {},
   "source": [
    "Knowing that the last column of this dataframe only contains the name of the chosen municipality we can simply drop it (knowing that it contains the same information for all our rows). "
   ]
  },
  {
   "cell_type": "code",
   "execution_count": 3,
   "id": "b71c894f",
   "metadata": {},
   "outputs": [
    {
     "data": {
      "text/plain": [
       "(256984, 30)"
      ]
     },
     "execution_count": 3,
     "metadata": {},
     "output_type": "execute_result"
    }
   ],
   "source": [
    "DH_calls.drop('gemName',axis=1, inplace=True)\n",
    "DH_calls.shape #checking if our operation was successful "
   ]
  },
  {
   "cell_type": "markdown",
   "id": "38bfa352",
   "metadata": {},
   "source": [
    "For our analysis we'll only use data about ambulance calls in Den Haag. To do that, we have to subset our dataframe on the basis of the column named as 'pmeDienst'. **(A=Ambulance, B=Brandweer, P=Politie)**"
   ]
  },
  {
   "cell_type": "code",
   "execution_count": 4,
   "id": "9bba1e5c",
   "metadata": {},
   "outputs": [
    {
     "data": {
      "text/plain": [
       "(212566, 30)"
      ]
     },
     "execution_count": 4,
     "metadata": {},
     "output_type": "execute_result"
    }
   ],
   "source": [
    "DH_amb_calls=DH_calls.loc[DH_calls['pmeDienst']=='A'].reset_index(drop=True) #creating new dataframe that only contains ambulance calls \n",
    "DH_amb_calls.shape #checking if our operation was successful "
   ]
  },
  {
   "cell_type": "markdown",
   "id": "252f629a",
   "metadata": {},
   "source": [
    "Now our previous column of interest ('pmeDienst') contains only one value (A). Thus, we can drop it from our new dataframe. "
   ]
  },
  {
   "cell_type": "code",
   "execution_count": 5,
   "id": "093efaa7",
   "metadata": {},
   "outputs": [
    {
     "data": {
      "text/plain": [
       "(212566, 29)"
      ]
     },
     "execution_count": 5,
     "metadata": {},
     "output_type": "execute_result"
    }
   ],
   "source": [
    "DH_amb_calls.drop('pmeDienst', axis=1, inplace=True)\n",
    "DH_amb_calls.shape #checking if our operation was successful "
   ]
  },
  {
   "cell_type": "markdown",
   "id": "fe1d2dbb",
   "metadata": {},
   "source": [
    "It's really important to realise that our dataframe is still 'dirty'. For istance, the second column ('pmeTimeStamp') contains four different variables (year, day, month, hour). What we must do in the first place is to separate these four variables into diffent columns of interest.  \n",
    "Only when we'll achieve that, we can create 4 different dataframes based on the year of the calls. (i.e. dataframe 1 <--> 2017; dataframe 2 <--> 2018 etc.)."
   ]
  },
  {
   "cell_type": "markdown",
   "id": "40dbc152",
   "metadata": {},
   "source": [
    "Let's first analyse the type of our column data. "
   ]
  },
  {
   "cell_type": "code",
   "execution_count": 6,
   "id": "94a3982a",
   "metadata": {},
   "outputs": [
    {
     "data": {
      "text/plain": [
       "dtype('O')"
      ]
     },
     "execution_count": 6,
     "metadata": {},
     "output_type": "execute_result"
    }
   ],
   "source": [
    "DH_amb_calls['pmeTimeStamp'].dtypes"
   ]
  },
  {
   "cell_type": "markdown",
   "id": "025ea261",
   "metadata": {},
   "source": [
    "Even though this column contains numbers (year, month, day, time), its data is classified as string objects. "
   ]
  },
  {
   "cell_type": "markdown",
   "id": "b5532f14",
   "metadata": {},
   "source": [
    "We can convert the 'pmeTimeStamp' column values to datetime type. "
   ]
  },
  {
   "cell_type": "code",
   "execution_count": 7,
   "id": "34b3733f",
   "metadata": {},
   "outputs": [],
   "source": [
    "DH_amb_calls['pmeTimeStamp']=pd.to_datetime(DH_amb_calls['pmeTimeStamp'])"
   ]
  },
  {
   "cell_type": "markdown",
   "id": "8f200a3c",
   "metadata": {},
   "source": [
    "We can now create four separate columns containing the year, month, day and time of the call."
   ]
  },
  {
   "cell_type": "code",
   "execution_count": 8,
   "id": "01ed6c42",
   "metadata": {},
   "outputs": [],
   "source": [
    "#year column\n",
    "DH_amb_calls['Year']=DH_amb_calls['pmeTimeStamp'].dt.year\n",
    "#month column\n",
    "DH_amb_calls['Month']=DH_amb_calls['pmeTimeStamp'].dt.month\n",
    "#day column\n",
    "DH_amb_calls['Day']=DH_amb_calls['pmeTimeStamp'].dt.day\n",
    "#time column\n",
    "DH_amb_calls['Time']=DH_amb_calls['pmeTimeStamp'].dt.time"
   ]
  },
  {
   "cell_type": "code",
   "execution_count": 9,
   "id": "42869d2a",
   "metadata": {},
   "outputs": [
    {
     "data": {
      "text/html": [
       "<div>\n",
       "<style scoped>\n",
       "    .dataframe tbody tr th:only-of-type {\n",
       "        vertical-align: middle;\n",
       "    }\n",
       "\n",
       "    .dataframe tbody tr th {\n",
       "        vertical-align: top;\n",
       "    }\n",
       "\n",
       "    .dataframe thead th {\n",
       "        text-align: right;\n",
       "    }\n",
       "</style>\n",
       "<table border=\"1\" class=\"dataframe\">\n",
       "  <thead>\n",
       "    <tr style=\"text-align: right;\">\n",
       "      <th></th>\n",
       "      <th>pmeId</th>\n",
       "      <th>pmeTimeStamp</th>\n",
       "      <th>pmeProtocol1</th>\n",
       "      <th>pmeProtocol2</th>\n",
       "      <th>pmeTarget</th>\n",
       "      <th>pmeMessage</th>\n",
       "      <th>pmePrio</th>\n",
       "      <th>pmePrioLevel</th>\n",
       "      <th>pmeStrippedMessage</th>\n",
       "      <th>pmeStraat</th>\n",
       "      <th>...</th>\n",
       "      <th>pme_proId</th>\n",
       "      <th>pme_vrgId</th>\n",
       "      <th>pmeCapCodes</th>\n",
       "      <th>pmeLifeLiner</th>\n",
       "      <th>pme_catId</th>\n",
       "      <th>wplNam</th>\n",
       "      <th>Year</th>\n",
       "      <th>Month</th>\n",
       "      <th>Day</th>\n",
       "      <th>Time</th>\n",
       "    </tr>\n",
       "  </thead>\n",
       "  <tbody>\n",
       "    <tr>\n",
       "      <th>0</th>\n",
       "      <td>12284702</td>\n",
       "      <td>2017-01-01 00:00:37</td>\n",
       "      <td>FLEX-A</td>\n",
       "      <td>1600</td>\n",
       "      <td>AORG</td>\n",
       "      <td>A1 Goudsbloemlaan 71-79 DHG 2565CP : 15101 Rit...</td>\n",
       "      <td>A1</td>\n",
       "      <td>1</td>\n",
       "      <td>15101 Ritnummer: 1</td>\n",
       "      <td>Goudsbloemlaan</td>\n",
       "      <td>...</td>\n",
       "      <td>12</td>\n",
       "      <td>5170</td>\n",
       "      <td>1520001</td>\n",
       "      <td>\\N</td>\n",
       "      <td>\\N</td>\n",
       "      <td>Den Haag</td>\n",
       "      <td>2017</td>\n",
       "      <td>1</td>\n",
       "      <td>1</td>\n",
       "      <td>00:00:37</td>\n",
       "    </tr>\n",
       "    <tr>\n",
       "      <th>1</th>\n",
       "      <td>12284781</td>\n",
       "      <td>2017-01-01 00:12:10</td>\n",
       "      <td>FLEX-A</td>\n",
       "      <td>1600</td>\n",
       "      <td>AORG</td>\n",
       "      <td>A1 Zuiderparklaan 81-89 DHG 2574HC : 15129 Rit...</td>\n",
       "      <td>A1</td>\n",
       "      <td>1</td>\n",
       "      <td>15129 Ritnummer: 7</td>\n",
       "      <td>Zuiderparklaan</td>\n",
       "      <td>...</td>\n",
       "      <td>12</td>\n",
       "      <td>5170</td>\n",
       "      <td>1520029</td>\n",
       "      <td>\\N</td>\n",
       "      <td>\\N</td>\n",
       "      <td>Den Haag</td>\n",
       "      <td>2017</td>\n",
       "      <td>1</td>\n",
       "      <td>1</td>\n",
       "      <td>00:12:10</td>\n",
       "    </tr>\n",
       "    <tr>\n",
       "      <th>2</th>\n",
       "      <td>12284809</td>\n",
       "      <td>2017-01-01 00:15:54</td>\n",
       "      <td>FLEX-A</td>\n",
       "      <td>1600</td>\n",
       "      <td>AORG</td>\n",
       "      <td>A1 Middenstip 1-9 DHG 2492VT : 15142 Ritnr: 1-9</td>\n",
       "      <td>A1</td>\n",
       "      <td>1</td>\n",
       "      <td>15142 Ritnummer: 1-9</td>\n",
       "      <td>Middenstip</td>\n",
       "      <td>...</td>\n",
       "      <td>12</td>\n",
       "      <td>5170</td>\n",
       "      <td>1520042</td>\n",
       "      <td>\\N</td>\n",
       "      <td>\\N</td>\n",
       "      <td>Den Haag</td>\n",
       "      <td>2017</td>\n",
       "      <td>1</td>\n",
       "      <td>1</td>\n",
       "      <td>00:15:54</td>\n",
       "    </tr>\n",
       "    <tr>\n",
       "      <th>3</th>\n",
       "      <td>12284833</td>\n",
       "      <td>2017-01-01 00:17:52</td>\n",
       "      <td>FLEX-A</td>\n",
       "      <td>1600</td>\n",
       "      <td>AORG</td>\n",
       "      <td>A1 Keukenhoflaan 11-19 DHG 2548PC : 15115 Ritn...</td>\n",
       "      <td>A1</td>\n",
       "      <td>1</td>\n",
       "      <td>15115 Ritnummer: 11</td>\n",
       "      <td>Keukenhoflaan</td>\n",
       "      <td>...</td>\n",
       "      <td>12</td>\n",
       "      <td>5170</td>\n",
       "      <td>1520015</td>\n",
       "      <td>\\N</td>\n",
       "      <td>\\N</td>\n",
       "      <td>Den Haag</td>\n",
       "      <td>2017</td>\n",
       "      <td>1</td>\n",
       "      <td>1</td>\n",
       "      <td>00:17:52</td>\n",
       "    </tr>\n",
       "    <tr>\n",
       "      <th>4</th>\n",
       "      <td>12284971</td>\n",
       "      <td>2017-01-01 00:30:41</td>\n",
       "      <td>FLEX-A</td>\n",
       "      <td>1600</td>\n",
       "      <td>AORG</td>\n",
       "      <td>A2 Ambulancepost Mangaan Mangaanstraat 80-88 D...</td>\n",
       "      <td>A2</td>\n",
       "      <td>2</td>\n",
       "      <td>Ambulancepost Mangaan Opstellen bij ambulancep...</td>\n",
       "      <td>Mangaanstraat</td>\n",
       "      <td>...</td>\n",
       "      <td>12</td>\n",
       "      <td>5170</td>\n",
       "      <td>1520026</td>\n",
       "      <td>\\N</td>\n",
       "      <td>\\N</td>\n",
       "      <td>Den Haag</td>\n",
       "      <td>2017</td>\n",
       "      <td>1</td>\n",
       "      <td>1</td>\n",
       "      <td>00:30:41</td>\n",
       "    </tr>\n",
       "  </tbody>\n",
       "</table>\n",
       "<p>5 rows × 33 columns</p>\n",
       "</div>"
      ],
      "text/plain": [
       "      pmeId        pmeTimeStamp pmeProtocol1  pmeProtocol2 pmeTarget  \\\n",
       "0  12284702 2017-01-01 00:00:37       FLEX-A          1600      AORG   \n",
       "1  12284781 2017-01-01 00:12:10       FLEX-A          1600      AORG   \n",
       "2  12284809 2017-01-01 00:15:54       FLEX-A          1600      AORG   \n",
       "3  12284833 2017-01-01 00:17:52       FLEX-A          1600      AORG   \n",
       "4  12284971 2017-01-01 00:30:41       FLEX-A          1600      AORG   \n",
       "\n",
       "                                          pmeMessage pmePrio pmePrioLevel  \\\n",
       "0  A1 Goudsbloemlaan 71-79 DHG 2565CP : 15101 Rit...      A1            1   \n",
       "1  A1 Zuiderparklaan 81-89 DHG 2574HC : 15129 Rit...      A1            1   \n",
       "2    A1 Middenstip 1-9 DHG 2492VT : 15142 Ritnr: 1-9      A1            1   \n",
       "3  A1 Keukenhoflaan 11-19 DHG 2548PC : 15115 Ritn...      A1            1   \n",
       "4  A2 Ambulancepost Mangaan Mangaanstraat 80-88 D...      A2            2   \n",
       "\n",
       "                                  pmeStrippedMessage       pmeStraat  ...  \\\n",
       "0                                 15101 Ritnummer: 1  Goudsbloemlaan  ...   \n",
       "1                                 15129 Ritnummer: 7  Zuiderparklaan  ...   \n",
       "2                               15142 Ritnummer: 1-9      Middenstip  ...   \n",
       "3                                15115 Ritnummer: 11   Keukenhoflaan  ...   \n",
       "4  Ambulancepost Mangaan Opstellen bij ambulancep...   Mangaanstraat  ...   \n",
       "\n",
       "  pme_proId pme_vrgId pmeCapCodes pmeLifeLiner pme_catId    wplNam  Year  \\\n",
       "0        12      5170     1520001           \\N        \\N  Den Haag  2017   \n",
       "1        12      5170     1520029           \\N        \\N  Den Haag  2017   \n",
       "2        12      5170     1520042           \\N        \\N  Den Haag  2017   \n",
       "3        12      5170     1520015           \\N        \\N  Den Haag  2017   \n",
       "4        12      5170     1520026           \\N        \\N  Den Haag  2017   \n",
       "\n",
       "  Month Day      Time  \n",
       "0     1   1  00:00:37  \n",
       "1     1   1  00:12:10  \n",
       "2     1   1  00:15:54  \n",
       "3     1   1  00:17:52  \n",
       "4     1   1  00:30:41  \n",
       "\n",
       "[5 rows x 33 columns]"
      ]
     },
     "execution_count": 9,
     "metadata": {},
     "output_type": "execute_result"
    }
   ],
   "source": [
    "DH_amb_calls.head()"
   ]
  },
  {
   "cell_type": "markdown",
   "id": "3e2a3355",
   "metadata": {},
   "source": [
    "Now that we created this new dataframe, containing ambulance calls' year, month and day, we can drop the initial column that contained \"time information\" about the calls. "
   ]
  },
  {
   "cell_type": "code",
   "execution_count": 10,
   "id": "6d93465e",
   "metadata": {},
   "outputs": [
    {
     "data": {
      "text/plain": [
       "(212566, 32)"
      ]
     },
     "execution_count": 10,
     "metadata": {},
     "output_type": "execute_result"
    }
   ],
   "source": [
    "DH_amb_calls= DH_amb_calls.drop('pmeTimeStamp',axis=1)\n",
    "DH_amb_calls.shape #checking if our operation was successful "
   ]
  },
  {
   "cell_type": "markdown",
   "id": "87a8e922",
   "metadata": {},
   "source": [
    "From this dataset we can exclude all the columns that do not contain useful information for our analysis.  \n",
    "In particular, we are only going to take into account the following columns: \n",
    "* Year \n",
    "* Month \n",
    "* Day \n",
    "* Time\n",
    "* pmeLatitude = wgs84\n",
    "* pmeLongitude = wgs84"
   ]
  },
  {
   "cell_type": "code",
   "execution_count": 11,
   "id": "802b07ce",
   "metadata": {},
   "outputs": [
    {
     "data": {
      "text/plain": [
       "(212566, 6)"
      ]
     },
     "execution_count": 11,
     "metadata": {},
     "output_type": "execute_result"
    }
   ],
   "source": [
    "chosen_columns= ['Year','Month','Day','Time','pmeLongitude','pmeLatitude']\n",
    "DH_amb_calls_new= DH_amb_calls[chosen_columns]\n",
    "DH_amb_calls_new.shape #checking if our operation was successful "
   ]
  },
  {
   "cell_type": "code",
   "execution_count": 12,
   "id": "b7478c38",
   "metadata": {},
   "outputs": [],
   "source": [
    "# Time series plots\n",
    "# Maps"
   ]
  },
  {
   "cell_type": "code",
   "execution_count": 13,
   "id": "0d58e400",
   "metadata": {},
   "outputs": [
    {
     "data": {
      "text/html": [
       "<div>\n",
       "<style scoped>\n",
       "    .dataframe tbody tr th:only-of-type {\n",
       "        vertical-align: middle;\n",
       "    }\n",
       "\n",
       "    .dataframe tbody tr th {\n",
       "        vertical-align: top;\n",
       "    }\n",
       "\n",
       "    .dataframe thead th {\n",
       "        text-align: right;\n",
       "    }\n",
       "</style>\n",
       "<table border=\"1\" class=\"dataframe\">\n",
       "  <thead>\n",
       "    <tr style=\"text-align: right;\">\n",
       "      <th></th>\n",
       "      <th>Year</th>\n",
       "      <th>Month</th>\n",
       "      <th>Day</th>\n",
       "      <th>Time</th>\n",
       "      <th>pmeLongitude</th>\n",
       "      <th>pmeLatitude</th>\n",
       "    </tr>\n",
       "  </thead>\n",
       "  <tbody>\n",
       "    <tr>\n",
       "      <th>0</th>\n",
       "      <td>2017</td>\n",
       "      <td>1</td>\n",
       "      <td>1</td>\n",
       "      <td>00:00:37</td>\n",
       "      <td>4.2607498</td>\n",
       "      <td>52.0768602</td>\n",
       "    </tr>\n",
       "    <tr>\n",
       "      <th>1</th>\n",
       "      <td>2017</td>\n",
       "      <td>1</td>\n",
       "      <td>1</td>\n",
       "      <td>00:12:10</td>\n",
       "      <td>4.2771779</td>\n",
       "      <td>52.0673801</td>\n",
       "    </tr>\n",
       "    <tr>\n",
       "      <th>2</th>\n",
       "      <td>2017</td>\n",
       "      <td>1</td>\n",
       "      <td>1</td>\n",
       "      <td>00:15:54</td>\n",
       "      <td>4.4047482</td>\n",
       "      <td>52.0735557</td>\n",
       "    </tr>\n",
       "    <tr>\n",
       "      <th>3</th>\n",
       "      <td>2017</td>\n",
       "      <td>1</td>\n",
       "      <td>1</td>\n",
       "      <td>00:17:52</td>\n",
       "      <td>4.2963787</td>\n",
       "      <td>52.0300043</td>\n",
       "    </tr>\n",
       "    <tr>\n",
       "      <th>4</th>\n",
       "      <td>2017</td>\n",
       "      <td>1</td>\n",
       "      <td>1</td>\n",
       "      <td>00:30:41</td>\n",
       "      <td>4.2515080</td>\n",
       "      <td>52.0495713</td>\n",
       "    </tr>\n",
       "  </tbody>\n",
       "</table>\n",
       "</div>"
      ],
      "text/plain": [
       "   Year  Month  Day      Time pmeLongitude pmeLatitude\n",
       "0  2017      1    1  00:00:37    4.2607498  52.0768602\n",
       "1  2017      1    1  00:12:10    4.2771779  52.0673801\n",
       "2  2017      1    1  00:15:54    4.4047482  52.0735557\n",
       "3  2017      1    1  00:17:52    4.2963787  52.0300043\n",
       "4  2017      1    1  00:30:41    4.2515080  52.0495713"
      ]
     },
     "execution_count": 13,
     "metadata": {},
     "output_type": "execute_result"
    }
   ],
   "source": [
    "DH_amb_calls_new.head()"
   ]
  },
  {
   "cell_type": "code",
   "execution_count": 14,
   "id": "78548f7f",
   "metadata": {},
   "outputs": [
    {
     "data": {
      "text/html": [
       "<div>\n",
       "<style scoped>\n",
       "    .dataframe tbody tr th:only-of-type {\n",
       "        vertical-align: middle;\n",
       "    }\n",
       "\n",
       "    .dataframe tbody tr th {\n",
       "        vertical-align: top;\n",
       "    }\n",
       "\n",
       "    .dataframe thead th {\n",
       "        text-align: right;\n",
       "    }\n",
       "</style>\n",
       "<table border=\"1\" class=\"dataframe\">\n",
       "  <thead>\n",
       "    <tr style=\"text-align: right;\">\n",
       "      <th></th>\n",
       "      <th>Year</th>\n",
       "      <th>Month</th>\n",
       "      <th>Day</th>\n",
       "      <th>Time</th>\n",
       "      <th>pmeLongitude</th>\n",
       "      <th>pmeLatitude</th>\n",
       "    </tr>\n",
       "  </thead>\n",
       "  <tbody>\n",
       "    <tr>\n",
       "      <th>212561</th>\n",
       "      <td>2020</td>\n",
       "      <td>8</td>\n",
       "      <td>30</td>\n",
       "      <td>19:05:44</td>\n",
       "      <td>4.291111</td>\n",
       "      <td>52.069858</td>\n",
       "    </tr>\n",
       "    <tr>\n",
       "      <th>212562</th>\n",
       "      <td>2020</td>\n",
       "      <td>8</td>\n",
       "      <td>30</td>\n",
       "      <td>19:08:55</td>\n",
       "      <td>4.252024</td>\n",
       "      <td>52.049683</td>\n",
       "    </tr>\n",
       "    <tr>\n",
       "      <th>212563</th>\n",
       "      <td>2020</td>\n",
       "      <td>8</td>\n",
       "      <td>30</td>\n",
       "      <td>19:09:27</td>\n",
       "      <td>4.34559</td>\n",
       "      <td>52.083516</td>\n",
       "    </tr>\n",
       "    <tr>\n",
       "      <th>212564</th>\n",
       "      <td>2020</td>\n",
       "      <td>8</td>\n",
       "      <td>30</td>\n",
       "      <td>19:23:37</td>\n",
       "      <td>4.34559</td>\n",
       "      <td>52.083516</td>\n",
       "    </tr>\n",
       "    <tr>\n",
       "      <th>212565</th>\n",
       "      <td>2020</td>\n",
       "      <td>8</td>\n",
       "      <td>30</td>\n",
       "      <td>19:28:40</td>\n",
       "      <td>4.272161</td>\n",
       "      <td>52.106352</td>\n",
       "    </tr>\n",
       "  </tbody>\n",
       "</table>\n",
       "</div>"
      ],
      "text/plain": [
       "        Year  Month  Day      Time pmeLongitude pmeLatitude\n",
       "212561  2020      8   30  19:05:44     4.291111   52.069858\n",
       "212562  2020      8   30  19:08:55     4.252024   52.049683\n",
       "212563  2020      8   30  19:09:27      4.34559   52.083516\n",
       "212564  2020      8   30  19:23:37      4.34559   52.083516\n",
       "212565  2020      8   30  19:28:40     4.272161   52.106352"
      ]
     },
     "execution_count": 14,
     "metadata": {},
     "output_type": "execute_result"
    }
   ],
   "source": [
    "DH_amb_calls_new.tail()"
   ]
  },
  {
   "cell_type": "code",
   "execution_count": 15,
   "id": "f2bd53b4",
   "metadata": {},
   "outputs": [
    {
     "data": {
      "text/html": [
       "<div>\n",
       "<style scoped>\n",
       "    .dataframe tbody tr th:only-of-type {\n",
       "        vertical-align: middle;\n",
       "    }\n",
       "\n",
       "    .dataframe tbody tr th {\n",
       "        vertical-align: top;\n",
       "    }\n",
       "\n",
       "    .dataframe thead th {\n",
       "        text-align: right;\n",
       "    }\n",
       "</style>\n",
       "<table border=\"1\" class=\"dataframe\">\n",
       "  <thead>\n",
       "    <tr style=\"text-align: right;\">\n",
       "      <th></th>\n",
       "      <th>Year</th>\n",
       "      <th>Month</th>\n",
       "      <th>Day</th>\n",
       "      <th>Time</th>\n",
       "      <th>Longitude</th>\n",
       "      <th>Latitude</th>\n",
       "    </tr>\n",
       "  </thead>\n",
       "  <tbody>\n",
       "    <tr>\n",
       "      <th>0</th>\n",
       "      <td>2017</td>\n",
       "      <td>1</td>\n",
       "      <td>1</td>\n",
       "      <td>00:00:37</td>\n",
       "      <td>4.2607498</td>\n",
       "      <td>52.0768602</td>\n",
       "    </tr>\n",
       "    <tr>\n",
       "      <th>1</th>\n",
       "      <td>2017</td>\n",
       "      <td>1</td>\n",
       "      <td>1</td>\n",
       "      <td>00:12:10</td>\n",
       "      <td>4.2771779</td>\n",
       "      <td>52.0673801</td>\n",
       "    </tr>\n",
       "    <tr>\n",
       "      <th>2</th>\n",
       "      <td>2017</td>\n",
       "      <td>1</td>\n",
       "      <td>1</td>\n",
       "      <td>00:15:54</td>\n",
       "      <td>4.4047482</td>\n",
       "      <td>52.0735557</td>\n",
       "    </tr>\n",
       "    <tr>\n",
       "      <th>3</th>\n",
       "      <td>2017</td>\n",
       "      <td>1</td>\n",
       "      <td>1</td>\n",
       "      <td>00:17:52</td>\n",
       "      <td>4.2963787</td>\n",
       "      <td>52.0300043</td>\n",
       "    </tr>\n",
       "    <tr>\n",
       "      <th>4</th>\n",
       "      <td>2017</td>\n",
       "      <td>1</td>\n",
       "      <td>1</td>\n",
       "      <td>00:30:41</td>\n",
       "      <td>4.2515080</td>\n",
       "      <td>52.0495713</td>\n",
       "    </tr>\n",
       "  </tbody>\n",
       "</table>\n",
       "</div>"
      ],
      "text/plain": [
       "   Year  Month  Day      Time  Longitude    Latitude\n",
       "0  2017      1    1  00:00:37  4.2607498  52.0768602\n",
       "1  2017      1    1  00:12:10  4.2771779  52.0673801\n",
       "2  2017      1    1  00:15:54  4.4047482  52.0735557\n",
       "3  2017      1    1  00:17:52  4.2963787  52.0300043\n",
       "4  2017      1    1  00:30:41  4.2515080  52.0495713"
      ]
     },
     "execution_count": 15,
     "metadata": {},
     "output_type": "execute_result"
    }
   ],
   "source": [
    "DH_amb_calls_new=DH_amb_calls_new.rename(columns={'pmeLongitude':'Longitude','pmeLatitude':'Latitude'})\n",
    "DH_amb_calls_new.head()"
   ]
  },
  {
   "cell_type": "markdown",
   "id": "66b32c95",
   "metadata": {},
   "source": [
    "Let's also check if inside the 'Latitude' and 'Longitude' columns we find values that are not numerical. "
   ]
  },
  {
   "cell_type": "code",
   "execution_count": 16,
   "id": "5a206594",
   "metadata": {},
   "outputs": [
    {
     "data": {
      "text/plain": [
       "9"
      ]
     },
     "execution_count": 16,
     "metadata": {},
     "output_type": "execute_result"
    }
   ],
   "source": [
    "len(DH_amb_calls_new[DH_amb_calls_new['Latitude']==r'\\N'])"
   ]
  },
  {
   "cell_type": "markdown",
   "id": "1b84137d",
   "metadata": {},
   "source": [
    "We can drop these rows beacuse they do not contains geographic data about ambulance calls. (also they are only 9 lines!)"
   ]
  },
  {
   "cell_type": "code",
   "execution_count": 17,
   "id": "54cfa143",
   "metadata": {},
   "outputs": [
    {
     "data": {
      "text/plain": [
       "(212557, 6)"
      ]
     },
     "execution_count": 17,
     "metadata": {},
     "output_type": "execute_result"
    }
   ],
   "source": [
    "DH_amb_calls_new=DH_amb_calls_new.drop(DH_amb_calls_new[DH_amb_calls_new['Latitude']==r'\\N'].index, axis=0).reset_index(drop=True)\n",
    "DH_amb_calls_new.shape"
   ]
  },
  {
   "cell_type": "code",
   "execution_count": 18,
   "id": "718855b4",
   "metadata": {},
   "outputs": [
    {
     "data": {
      "text/plain": [
       "0"
      ]
     },
     "execution_count": 18,
     "metadata": {},
     "output_type": "execute_result"
    }
   ],
   "source": [
    "len(DH_amb_calls_new[DH_amb_calls_new['Longitude']==r'\\N'])"
   ]
  },
  {
   "cell_type": "markdown",
   "id": "5e2971b7",
   "metadata": {},
   "source": [
    "What we can do now is to check for possible duplicates in our dataframe. In other words, if two ambulance calls have the same coordinates and the same date (year, month, day, time) we can simply imply that those calls are duplicates, thus, we are going to keep only one call out of those. "
   ]
  },
  {
   "cell_type": "code",
   "execution_count": 19,
   "id": "64856724",
   "metadata": {},
   "outputs": [
    {
     "data": {
      "text/plain": [
       "(212515, 6)"
      ]
     },
     "execution_count": 19,
     "metadata": {},
     "output_type": "execute_result"
    }
   ],
   "source": [
    "duplicates_index=DH_amb_calls_new[DH_amb_calls_new.duplicated(keep='first')].index\n",
    "DH_amb_calls_new=DH_amb_calls_new.drop(duplicates_index, axis=0).reset_index(drop=True)\n",
    "DH_amb_calls_new.shape"
   ]
  },
  {
   "cell_type": "markdown",
   "id": "5418a244",
   "metadata": {},
   "source": [
    "## Last part of EDA on ambulance calls dataset"
   ]
  },
  {
   "cell_type": "markdown",
   "id": "2e7165d7",
   "metadata": {},
   "source": [
    "As we previously described, from this new dataset we can create four separate datasets depending on the year of the call.  \n",
    "* Dataframe 1: Ambulance calls , 2017\n",
    "* Dataframe 2: Ambulance calls , 2018\n",
    "* Dataframe 3: Ambulance calls , 2019\n",
    "* Dataframe 4: Ambulance calls , 2020  \n",
    "\n",
    "Let's then subset these new dataframes from our DH_amb_calls_new dataframe. "
   ]
  },
  {
   "cell_type": "code",
   "execution_count": 20,
   "id": "bb413913",
   "metadata": {},
   "outputs": [],
   "source": [
    "#2017 ambulance calls dataframe \n",
    "DH_amb_2017=DH_amb_calls_new.loc[DH_amb_calls_new['Year']== 2017].reset_index(drop=True)\n",
    "#2018 ambulance calls dataframe \n",
    "DH_amb_2018=DH_amb_calls_new.loc[DH_amb_calls_new['Year']== 2018].reset_index(drop=True)\n",
    "#2019 ambulance calls dataframe \n",
    "DH_amb_2019=DH_amb_calls_new.loc[DH_amb_calls_new['Year']== 2019].reset_index(drop=True)\n",
    "#2020 ambulance calls dataframe \n",
    "DH_amb_2020=DH_amb_calls_new.loc[DH_amb_calls_new['Year']== 2020].reset_index(drop=True)"
   ]
  },
  {
   "cell_type": "markdown",
   "id": "05a3f9b9",
   "metadata": {},
   "source": [
    "Let's check the shape of each one of these dataframes to have a first understanding of the 'quantity' of data available each year. "
   ]
  },
  {
   "cell_type": "code",
   "execution_count": 21,
   "id": "bb6208dd",
   "metadata": {},
   "outputs": [
    {
     "name": "stdout",
     "output_type": "stream",
     "text": [
      "2017 dataset rows: 60233\n",
      "2018 dataset rows: 58729\n",
      "2019 dataset rows: 57339\n",
      "2020 dataset rows: 36214\n"
     ]
    }
   ],
   "source": [
    "print('2017 dataset rows:',DH_amb_2017.shape[0])\n",
    "print('2018 dataset rows:',DH_amb_2018.shape[0])\n",
    "print('2019 dataset rows:',DH_amb_2019.shape[0])\n",
    "print('2020 dataset rows:',DH_amb_2020.shape[0])"
   ]
  },
  {
   "cell_type": "markdown",
   "id": "7d5cdec9",
   "metadata": {},
   "source": [
    "Let's then drop the Year column for these specific dataframes. "
   ]
  },
  {
   "cell_type": "code",
   "execution_count": 22,
   "id": "5d24f6f6",
   "metadata": {},
   "outputs": [],
   "source": [
    "#2017 \n",
    "DH_amb_2017=DH_amb_2017.drop('Year',axis=1)\n",
    "#2018 \n",
    "DH_amb_2018=DH_amb_2018.drop('Year',axis=1)\n",
    "#2019 \n",
    "DH_amb_2019=DH_amb_2019.drop('Year',axis=1)\n",
    "#2020 \n",
    "DH_amb_2020=DH_amb_2020.drop('Year',axis=1)"
   ]
  },
  {
   "cell_type": "markdown",
   "id": "be7cffa7",
   "metadata": {},
   "source": [
    "Taking into account both our hypothesis for the future regression model that we are going to use and the limited dimensions of the 2020 dataframe, we will exclude this last dataframe from our analysis.  \n",
    "\n",
    "Thus, let us save the datasets for 2017, 2018, 2019 in three csv files that we are going to clean in the future. "
   ]
  },
  {
   "cell_type": "code",
   "execution_count": 23,
   "id": "7deb9249",
   "metadata": {},
   "outputs": [],
   "source": [
    "#saving 2017 dataframe \n",
    "DH_amb_2017.to_csv('Calls data/Calls_2017.csv',index=False)\n",
    "#saving 2018 dataframe \n",
    "DH_amb_2018.to_csv('Calls data/Calls_2018.csv',index=False)\n",
    "#saving 2019 dataframe\n",
    "DH_amb_2019.to_csv('Calls data/Calls_2019.csv',index=False)"
   ]
  },
  {
   "cell_type": "markdown",
   "id": "0e49d753",
   "metadata": {},
   "source": [
    "## Operational summary for our final three datasets "
   ]
  },
  {
   "cell_type": "markdown",
   "id": "cb90a89c",
   "metadata": {},
   "source": [
    "Our last three dataframe contain 6 columns: \n",
    "* Year of the call \n",
    "* Month of the call \n",
    "* Day of the call\n",
    "* Time of the call \n",
    "* Longitude of the call \n",
    "* Latitude of the call"
   ]
  }
 ],
 "metadata": {
  "kernelspec": {
   "display_name": "geo_env",
   "language": "python",
   "name": "geo_env"
  },
  "language_info": {
   "codemirror_mode": {
    "name": "ipython",
    "version": 3
   },
   "file_extension": ".py",
   "mimetype": "text/x-python",
   "name": "python",
   "nbconvert_exporter": "python",
   "pygments_lexer": "ipython3",
   "version": "3.8.13"
  }
 },
 "nbformat": 4,
 "nbformat_minor": 5
}
